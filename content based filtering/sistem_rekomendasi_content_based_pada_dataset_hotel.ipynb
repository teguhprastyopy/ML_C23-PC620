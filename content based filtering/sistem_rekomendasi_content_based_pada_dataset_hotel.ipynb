{
  "nbformat": 4,
  "nbformat_minor": 0,
  "metadata": {
    "colab": {
      "provenance": [],
      "collapsed_sections": [
        "WpMMT0KJ34O-"
      ]
    },
    "kernelspec": {
      "name": "python3",
      "display_name": "Python 3"
    },
    "language_info": {
      "name": "python"
    }
  },
  "cells": [
    {
      "cell_type": "markdown",
      "source": [
        "# sistem rekomendasi content-based filtering"
      ],
      "metadata": {
        "id": "Y4Wlr73EyuHA"
      }
    },
    {
      "cell_type": "markdown",
      "source": [
        "## import"
      ],
      "metadata": {
        "id": "dphWUCJQy4W0"
      }
    },
    {
      "cell_type": "code",
      "source": [
        "!pip install Sastrawi\n",
        "\n",
        "import pandas as pd\n",
        "import numpy as np\n",
        "from zipfile import ZipFile\n",
        "from pathlib import Path\n",
        "\n",
        "import seaborn as sns\n",
        "import matplotlib.pyplot as plt\n",
        "\n",
        "from sklearn.feature_extraction.text import TfidfVectorizer\n",
        "from Sastrawi.Stemmer.StemmerFactory import StemmerFactory\n",
        "from Sastrawi.StopWordRemover.StopWordRemoverFactory import StopWordRemoverFactory\n",
        "from sklearn.metrics.pairwise import cosine_similarity\n",
        "\n",
        "%matplotlib inline\n",
        "sns.set_palette('Set1')\n",
        "sns.set()\n",
        "\n",
        "import tensorflow as tf\n",
        "from tensorflow import keras\n",
        "from tensorflow.keras import layers\n",
        "\n",
        "tv = TfidfVectorizer(max_features=5000)\n",
        "stem = StemmerFactory().create_stemmer()\n",
        "stopword = StopWordRemoverFactory().create_stop_word_remover()\n",
        "\n",
        "import nltk\n",
        "nltk.download('punkt')"
      ],
      "metadata": {
        "id": "-bV34xGry3IU",
        "colab": {
          "base_uri": "https://localhost:8080/"
        },
        "outputId": "eedfe9a0-1446-4dcf-9ffe-2c9b477b0e59"
      },
      "execution_count": 23,
      "outputs": [
        {
          "output_type": "stream",
          "name": "stdout",
          "text": [
            "Looking in indexes: https://pypi.org/simple, https://us-python.pkg.dev/colab-wheels/public/simple/\n",
            "Requirement already satisfied: Sastrawi in /usr/local/lib/python3.10/dist-packages (1.0.1)\n"
          ]
        },
        {
          "output_type": "stream",
          "name": "stderr",
          "text": [
            "[nltk_data] Downloading package punkt to /root/nltk_data...\n",
            "[nltk_data]   Unzipping tokenizers/punkt.zip.\n"
          ]
        },
        {
          "output_type": "execute_result",
          "data": {
            "text/plain": [
              "True"
            ]
          },
          "metadata": {},
          "execution_count": 23
        }
      ]
    },
    {
      "cell_type": "markdown",
      "source": [
        "## prepare data"
      ],
      "metadata": {
        "id": "p7TKtG213tq0"
      }
    },
    {
      "cell_type": "code",
      "source": [
        "df = pd.read_csv('data_hotel_traveloka.csv')\n",
        "df.head()"
      ],
      "metadata": {
        "colab": {
          "base_uri": "https://localhost:8080/",
          "height": 548
        },
        "id": "KdJnWehv3Kwq",
        "outputId": "25a5969d-5810-4d88-c6cd-f2ef7f3b1047"
      },
      "execution_count": 6,
      "outputs": [
        {
          "output_type": "execute_result",
          "data": {
            "text/plain": [
              "      city                                  name  \\\n",
              "0  Jakarta  The Sultan Hotel & Residence Jakarta   \n",
              "1  Jakarta               Aryaduta Suite Semanggi   \n",
              "2  Jakarta                   Aloft South Jakarta   \n",
              "3  Jakarta                  The Langham, Jakarta   \n",
              "4  Jakarta          Hotel Mulia Senayan, Jakarta   \n",
              "\n",
              "                    displayName                   region  starRating  \\\n",
              "0      The Sultan Hotel Jakarta         Senayan, Jakarta         5.0   \n",
              "1       Aryaduta Suite Semanggi  Karet Semanggi, Jakarta         4.0   \n",
              "2           Aloft South Jakarta  Cilandak Timur, Jakarta         4.0   \n",
              "3          The Langham, Jakarta         Senayan, Jakarta         5.0   \n",
              "4  Hotel Mulia Senayan, Jakarta         Senayan, Jakarta         5.0   \n",
              "\n",
              "   userRating  numReviews userRatingInfo  latitude   longitude  \\\n",
              "0         8.6      7247.0    Mengesankan -6.216947  106.809331   \n",
              "1         8.5      4882.0    Mengesankan -6.219991  106.816117   \n",
              "2         8.9       467.0    Mengesankan -6.291784  106.816294   \n",
              "3         8.8       340.0    Mengesankan -6.227097  106.806396   \n",
              "4         8.7      1540.0    Mengesankan -6.215131  106.797045   \n",
              "\n",
              "                                       hotelFeatures    prices  \n",
              "0  Bayar saat Check-in, Restoran show cooking, Wi...   7175300  \n",
              "1  Squash, Area main anak, Tennis, Layanan pijat,...   7202361  \n",
              "2  Bar, Sewa mobil, Pusat kebugaran, Bilyar, Bar ...   3884100  \n",
              "3  Restoran show cooking, Aktivitas outdoor, Klub...  23490093  \n",
              "4  Bar, Tennis, Fasilitas bisnis, Lapangan tennis...  16334999  "
            ],
            "text/html": [
              "\n",
              "  <div id=\"df-82f75330-e058-4598-929a-5a488ca20936\">\n",
              "    <div class=\"colab-df-container\">\n",
              "      <div>\n",
              "<style scoped>\n",
              "    .dataframe tbody tr th:only-of-type {\n",
              "        vertical-align: middle;\n",
              "    }\n",
              "\n",
              "    .dataframe tbody tr th {\n",
              "        vertical-align: top;\n",
              "    }\n",
              "\n",
              "    .dataframe thead th {\n",
              "        text-align: right;\n",
              "    }\n",
              "</style>\n",
              "<table border=\"1\" class=\"dataframe\">\n",
              "  <thead>\n",
              "    <tr style=\"text-align: right;\">\n",
              "      <th></th>\n",
              "      <th>city</th>\n",
              "      <th>name</th>\n",
              "      <th>displayName</th>\n",
              "      <th>region</th>\n",
              "      <th>starRating</th>\n",
              "      <th>userRating</th>\n",
              "      <th>numReviews</th>\n",
              "      <th>userRatingInfo</th>\n",
              "      <th>latitude</th>\n",
              "      <th>longitude</th>\n",
              "      <th>hotelFeatures</th>\n",
              "      <th>prices</th>\n",
              "    </tr>\n",
              "  </thead>\n",
              "  <tbody>\n",
              "    <tr>\n",
              "      <th>0</th>\n",
              "      <td>Jakarta</td>\n",
              "      <td>The Sultan Hotel &amp; Residence Jakarta</td>\n",
              "      <td>The Sultan Hotel Jakarta</td>\n",
              "      <td>Senayan, Jakarta</td>\n",
              "      <td>5.0</td>\n",
              "      <td>8.6</td>\n",
              "      <td>7247.0</td>\n",
              "      <td>Mengesankan</td>\n",
              "      <td>-6.216947</td>\n",
              "      <td>106.809331</td>\n",
              "      <td>Bayar saat Check-in, Restoran show cooking, Wi...</td>\n",
              "      <td>7175300</td>\n",
              "    </tr>\n",
              "    <tr>\n",
              "      <th>1</th>\n",
              "      <td>Jakarta</td>\n",
              "      <td>Aryaduta Suite Semanggi</td>\n",
              "      <td>Aryaduta Suite Semanggi</td>\n",
              "      <td>Karet Semanggi, Jakarta</td>\n",
              "      <td>4.0</td>\n",
              "      <td>8.5</td>\n",
              "      <td>4882.0</td>\n",
              "      <td>Mengesankan</td>\n",
              "      <td>-6.219991</td>\n",
              "      <td>106.816117</td>\n",
              "      <td>Squash, Area main anak, Tennis, Layanan pijat,...</td>\n",
              "      <td>7202361</td>\n",
              "    </tr>\n",
              "    <tr>\n",
              "      <th>2</th>\n",
              "      <td>Jakarta</td>\n",
              "      <td>Aloft South Jakarta</td>\n",
              "      <td>Aloft South Jakarta</td>\n",
              "      <td>Cilandak Timur, Jakarta</td>\n",
              "      <td>4.0</td>\n",
              "      <td>8.9</td>\n",
              "      <td>467.0</td>\n",
              "      <td>Mengesankan</td>\n",
              "      <td>-6.291784</td>\n",
              "      <td>106.816294</td>\n",
              "      <td>Bar, Sewa mobil, Pusat kebugaran, Bilyar, Bar ...</td>\n",
              "      <td>3884100</td>\n",
              "    </tr>\n",
              "    <tr>\n",
              "      <th>3</th>\n",
              "      <td>Jakarta</td>\n",
              "      <td>The Langham, Jakarta</td>\n",
              "      <td>The Langham, Jakarta</td>\n",
              "      <td>Senayan, Jakarta</td>\n",
              "      <td>5.0</td>\n",
              "      <td>8.8</td>\n",
              "      <td>340.0</td>\n",
              "      <td>Mengesankan</td>\n",
              "      <td>-6.227097</td>\n",
              "      <td>106.806396</td>\n",
              "      <td>Restoran show cooking, Aktivitas outdoor, Klub...</td>\n",
              "      <td>23490093</td>\n",
              "    </tr>\n",
              "    <tr>\n",
              "      <th>4</th>\n",
              "      <td>Jakarta</td>\n",
              "      <td>Hotel Mulia Senayan, Jakarta</td>\n",
              "      <td>Hotel Mulia Senayan, Jakarta</td>\n",
              "      <td>Senayan, Jakarta</td>\n",
              "      <td>5.0</td>\n",
              "      <td>8.7</td>\n",
              "      <td>1540.0</td>\n",
              "      <td>Mengesankan</td>\n",
              "      <td>-6.215131</td>\n",
              "      <td>106.797045</td>\n",
              "      <td>Bar, Tennis, Fasilitas bisnis, Lapangan tennis...</td>\n",
              "      <td>16334999</td>\n",
              "    </tr>\n",
              "  </tbody>\n",
              "</table>\n",
              "</div>\n",
              "      <button class=\"colab-df-convert\" onclick=\"convertToInteractive('df-82f75330-e058-4598-929a-5a488ca20936')\"\n",
              "              title=\"Convert this dataframe to an interactive table.\"\n",
              "              style=\"display:none;\">\n",
              "        \n",
              "  <svg xmlns=\"http://www.w3.org/2000/svg\" height=\"24px\"viewBox=\"0 0 24 24\"\n",
              "       width=\"24px\">\n",
              "    <path d=\"M0 0h24v24H0V0z\" fill=\"none\"/>\n",
              "    <path d=\"M18.56 5.44l.94 2.06.94-2.06 2.06-.94-2.06-.94-.94-2.06-.94 2.06-2.06.94zm-11 1L8.5 8.5l.94-2.06 2.06-.94-2.06-.94L8.5 2.5l-.94 2.06-2.06.94zm10 10l.94 2.06.94-2.06 2.06-.94-2.06-.94-.94-2.06-.94 2.06-2.06.94z\"/><path d=\"M17.41 7.96l-1.37-1.37c-.4-.4-.92-.59-1.43-.59-.52 0-1.04.2-1.43.59L10.3 9.45l-7.72 7.72c-.78.78-.78 2.05 0 2.83L4 21.41c.39.39.9.59 1.41.59.51 0 1.02-.2 1.41-.59l7.78-7.78 2.81-2.81c.8-.78.8-2.07 0-2.86zM5.41 20L4 18.59l7.72-7.72 1.47 1.35L5.41 20z\"/>\n",
              "  </svg>\n",
              "      </button>\n",
              "      \n",
              "  <style>\n",
              "    .colab-df-container {\n",
              "      display:flex;\n",
              "      flex-wrap:wrap;\n",
              "      gap: 12px;\n",
              "    }\n",
              "\n",
              "    .colab-df-convert {\n",
              "      background-color: #E8F0FE;\n",
              "      border: none;\n",
              "      border-radius: 50%;\n",
              "      cursor: pointer;\n",
              "      display: none;\n",
              "      fill: #1967D2;\n",
              "      height: 32px;\n",
              "      padding: 0 0 0 0;\n",
              "      width: 32px;\n",
              "    }\n",
              "\n",
              "    .colab-df-convert:hover {\n",
              "      background-color: #E2EBFA;\n",
              "      box-shadow: 0px 1px 2px rgba(60, 64, 67, 0.3), 0px 1px 3px 1px rgba(60, 64, 67, 0.15);\n",
              "      fill: #174EA6;\n",
              "    }\n",
              "\n",
              "    [theme=dark] .colab-df-convert {\n",
              "      background-color: #3B4455;\n",
              "      fill: #D2E3FC;\n",
              "    }\n",
              "\n",
              "    [theme=dark] .colab-df-convert:hover {\n",
              "      background-color: #434B5C;\n",
              "      box-shadow: 0px 1px 3px 1px rgba(0, 0, 0, 0.15);\n",
              "      filter: drop-shadow(0px 1px 2px rgba(0, 0, 0, 0.3));\n",
              "      fill: #FFFFFF;\n",
              "    }\n",
              "  </style>\n",
              "\n",
              "      <script>\n",
              "        const buttonEl =\n",
              "          document.querySelector('#df-82f75330-e058-4598-929a-5a488ca20936 button.colab-df-convert');\n",
              "        buttonEl.style.display =\n",
              "          google.colab.kernel.accessAllowed ? 'block' : 'none';\n",
              "\n",
              "        async function convertToInteractive(key) {\n",
              "          const element = document.querySelector('#df-82f75330-e058-4598-929a-5a488ca20936');\n",
              "          const dataTable =\n",
              "            await google.colab.kernel.invokeFunction('convertToInteractive',\n",
              "                                                     [key], {});\n",
              "          if (!dataTable) return;\n",
              "\n",
              "          const docLinkHtml = 'Like what you see? Visit the ' +\n",
              "            '<a target=\"_blank\" href=https://colab.research.google.com/notebooks/data_table.ipynb>data table notebook</a>'\n",
              "            + ' to learn more about interactive tables.';\n",
              "          element.innerHTML = '';\n",
              "          dataTable['output_type'] = 'display_data';\n",
              "          await google.colab.output.renderOutput(dataTable, element);\n",
              "          const docLink = document.createElement('div');\n",
              "          docLink.innerHTML = docLinkHtml;\n",
              "          element.appendChild(docLink);\n",
              "        }\n",
              "      </script>\n",
              "    </div>\n",
              "  </div>\n",
              "  "
            ]
          },
          "metadata": {},
          "execution_count": 6
        }
      ]
    },
    {
      "cell_type": "markdown",
      "source": [
        "## data preprocessing"
      ],
      "metadata": {
        "id": "X8UOCEXL34JT"
      }
    },
    {
      "cell_type": "markdown",
      "source": [
        "### remove duplicates"
      ],
      "metadata": {
        "id": "yTXxTTab4T2H"
      }
    },
    {
      "cell_type": "code",
      "source": [
        "jumlah_duplikat = df.duplicated().sum()\n",
        "print(\"Jumlah data duplikat: \", jumlah_duplikat)"
      ],
      "metadata": {
        "colab": {
          "base_uri": "https://localhost:8080/"
        },
        "id": "DSNfg7Cy36w0",
        "outputId": "44e8fc81-d558-4d64-e8fd-8c3c3fb3c6f5"
      },
      "execution_count": 7,
      "outputs": [
        {
          "output_type": "stream",
          "name": "stdout",
          "text": [
            "Jumlah data duplikat:  37\n"
          ]
        }
      ]
    },
    {
      "cell_type": "code",
      "source": [
        "df = df.drop_duplicates()\n",
        "print(\"Jumlah data duplikat setelah penghapusan:\", df.duplicated().sum())"
      ],
      "metadata": {
        "colab": {
          "base_uri": "https://localhost:8080/"
        },
        "id": "xeieayh436vI",
        "outputId": "e36af79b-96bd-46f6-84a6-61b92a899fb8"
      },
      "execution_count": 8,
      "outputs": [
        {
          "output_type": "stream",
          "name": "stdout",
          "text": [
            "Jumlah data duplikat setelah penghapusan: 0\n"
          ]
        }
      ]
    },
    {
      "cell_type": "markdown",
      "source": [
        "### removing Null/NaN rows"
      ],
      "metadata": {
        "id": "y95KNILP45F6"
      }
    },
    {
      "cell_type": "code",
      "source": [
        "print(\"Jumlah baris dengan nilai null sebelum penghapusan:\", df.isnull().sum())"
      ],
      "metadata": {
        "colab": {
          "base_uri": "https://localhost:8080/"
        },
        "id": "0GE5lU6C36td",
        "outputId": "75e7d5ba-7c47-4d31-9af2-536862d6c6f3"
      },
      "execution_count": 9,
      "outputs": [
        {
          "output_type": "stream",
          "name": "stdout",
          "text": [
            "Jumlah baris dengan nilai null sebelum penghapusan: city                0\n",
            "name                0\n",
            "displayName         0\n",
            "region              0\n",
            "starRating          0\n",
            "userRating         13\n",
            "numReviews          2\n",
            "userRatingInfo     13\n",
            "latitude            0\n",
            "longitude           0\n",
            "hotelFeatures     105\n",
            "prices              0\n",
            "dtype: int64\n"
          ]
        }
      ]
    },
    {
      "cell_type": "code",
      "source": [
        "df = df.dropna()\n",
        "print(\"Jumlah baris dengan nilai null setelah penghapusan:\", df.isnull().sum())"
      ],
      "metadata": {
        "colab": {
          "base_uri": "https://localhost:8080/"
        },
        "id": "LH3MTQAb36qv",
        "outputId": "e84ed3cd-44de-4900-d23f-118cef44e1e4"
      },
      "execution_count": 10,
      "outputs": [
        {
          "output_type": "stream",
          "name": "stdout",
          "text": [
            "Jumlah baris dengan nilai null setelah penghapusan: city              0\n",
            "name              0\n",
            "displayName       0\n",
            "region            0\n",
            "starRating        0\n",
            "userRating        0\n",
            "numReviews        0\n",
            "userRatingInfo    0\n",
            "latitude          0\n",
            "longitude         0\n",
            "hotelFeatures     0\n",
            "prices            0\n",
            "dtype: int64\n"
          ]
        }
      ]
    },
    {
      "cell_type": "markdown",
      "source": [
        "### remove unused columns"
      ],
      "metadata": {
        "id": "mF2FdNHX6EEW"
      }
    },
    {
      "cell_type": "code",
      "source": [
        "# df = df.drop('id', axis=1)"
      ],
      "metadata": {
        "id": "hHUqOrdW6HDr"
      },
      "execution_count": 1,
      "outputs": []
    },
    {
      "cell_type": "code",
      "source": [
        "df.head()"
      ],
      "metadata": {
        "colab": {
          "base_uri": "https://localhost:8080/",
          "height": 548
        },
        "id": "bUvuHzL76L5v",
        "outputId": "fbab78e5-4a18-4952-9f64-50ad09632b3b"
      },
      "execution_count": 11,
      "outputs": [
        {
          "output_type": "execute_result",
          "data": {
            "text/plain": [
              "      city                                  name  \\\n",
              "0  Jakarta  The Sultan Hotel & Residence Jakarta   \n",
              "1  Jakarta               Aryaduta Suite Semanggi   \n",
              "2  Jakarta                   Aloft South Jakarta   \n",
              "3  Jakarta                  The Langham, Jakarta   \n",
              "4  Jakarta          Hotel Mulia Senayan, Jakarta   \n",
              "\n",
              "                    displayName                   region  starRating  \\\n",
              "0      The Sultan Hotel Jakarta         Senayan, Jakarta         5.0   \n",
              "1       Aryaduta Suite Semanggi  Karet Semanggi, Jakarta         4.0   \n",
              "2           Aloft South Jakarta  Cilandak Timur, Jakarta         4.0   \n",
              "3          The Langham, Jakarta         Senayan, Jakarta         5.0   \n",
              "4  Hotel Mulia Senayan, Jakarta         Senayan, Jakarta         5.0   \n",
              "\n",
              "   userRating  numReviews userRatingInfo  latitude   longitude  \\\n",
              "0         8.6      7247.0    Mengesankan -6.216947  106.809331   \n",
              "1         8.5      4882.0    Mengesankan -6.219991  106.816117   \n",
              "2         8.9       467.0    Mengesankan -6.291784  106.816294   \n",
              "3         8.8       340.0    Mengesankan -6.227097  106.806396   \n",
              "4         8.7      1540.0    Mengesankan -6.215131  106.797045   \n",
              "\n",
              "                                       hotelFeatures    prices  \n",
              "0  Bayar saat Check-in, Restoran show cooking, Wi...   7175300  \n",
              "1  Squash, Area main anak, Tennis, Layanan pijat,...   7202361  \n",
              "2  Bar, Sewa mobil, Pusat kebugaran, Bilyar, Bar ...   3884100  \n",
              "3  Restoran show cooking, Aktivitas outdoor, Klub...  23490093  \n",
              "4  Bar, Tennis, Fasilitas bisnis, Lapangan tennis...  16334999  "
            ],
            "text/html": [
              "\n",
              "  <div id=\"df-2e9c92e4-696e-4b57-8870-e7ed6feae728\">\n",
              "    <div class=\"colab-df-container\">\n",
              "      <div>\n",
              "<style scoped>\n",
              "    .dataframe tbody tr th:only-of-type {\n",
              "        vertical-align: middle;\n",
              "    }\n",
              "\n",
              "    .dataframe tbody tr th {\n",
              "        vertical-align: top;\n",
              "    }\n",
              "\n",
              "    .dataframe thead th {\n",
              "        text-align: right;\n",
              "    }\n",
              "</style>\n",
              "<table border=\"1\" class=\"dataframe\">\n",
              "  <thead>\n",
              "    <tr style=\"text-align: right;\">\n",
              "      <th></th>\n",
              "      <th>city</th>\n",
              "      <th>name</th>\n",
              "      <th>displayName</th>\n",
              "      <th>region</th>\n",
              "      <th>starRating</th>\n",
              "      <th>userRating</th>\n",
              "      <th>numReviews</th>\n",
              "      <th>userRatingInfo</th>\n",
              "      <th>latitude</th>\n",
              "      <th>longitude</th>\n",
              "      <th>hotelFeatures</th>\n",
              "      <th>prices</th>\n",
              "    </tr>\n",
              "  </thead>\n",
              "  <tbody>\n",
              "    <tr>\n",
              "      <th>0</th>\n",
              "      <td>Jakarta</td>\n",
              "      <td>The Sultan Hotel &amp; Residence Jakarta</td>\n",
              "      <td>The Sultan Hotel Jakarta</td>\n",
              "      <td>Senayan, Jakarta</td>\n",
              "      <td>5.0</td>\n",
              "      <td>8.6</td>\n",
              "      <td>7247.0</td>\n",
              "      <td>Mengesankan</td>\n",
              "      <td>-6.216947</td>\n",
              "      <td>106.809331</td>\n",
              "      <td>Bayar saat Check-in, Restoran show cooking, Wi...</td>\n",
              "      <td>7175300</td>\n",
              "    </tr>\n",
              "    <tr>\n",
              "      <th>1</th>\n",
              "      <td>Jakarta</td>\n",
              "      <td>Aryaduta Suite Semanggi</td>\n",
              "      <td>Aryaduta Suite Semanggi</td>\n",
              "      <td>Karet Semanggi, Jakarta</td>\n",
              "      <td>4.0</td>\n",
              "      <td>8.5</td>\n",
              "      <td>4882.0</td>\n",
              "      <td>Mengesankan</td>\n",
              "      <td>-6.219991</td>\n",
              "      <td>106.816117</td>\n",
              "      <td>Squash, Area main anak, Tennis, Layanan pijat,...</td>\n",
              "      <td>7202361</td>\n",
              "    </tr>\n",
              "    <tr>\n",
              "      <th>2</th>\n",
              "      <td>Jakarta</td>\n",
              "      <td>Aloft South Jakarta</td>\n",
              "      <td>Aloft South Jakarta</td>\n",
              "      <td>Cilandak Timur, Jakarta</td>\n",
              "      <td>4.0</td>\n",
              "      <td>8.9</td>\n",
              "      <td>467.0</td>\n",
              "      <td>Mengesankan</td>\n",
              "      <td>-6.291784</td>\n",
              "      <td>106.816294</td>\n",
              "      <td>Bar, Sewa mobil, Pusat kebugaran, Bilyar, Bar ...</td>\n",
              "      <td>3884100</td>\n",
              "    </tr>\n",
              "    <tr>\n",
              "      <th>3</th>\n",
              "      <td>Jakarta</td>\n",
              "      <td>The Langham, Jakarta</td>\n",
              "      <td>The Langham, Jakarta</td>\n",
              "      <td>Senayan, Jakarta</td>\n",
              "      <td>5.0</td>\n",
              "      <td>8.8</td>\n",
              "      <td>340.0</td>\n",
              "      <td>Mengesankan</td>\n",
              "      <td>-6.227097</td>\n",
              "      <td>106.806396</td>\n",
              "      <td>Restoran show cooking, Aktivitas outdoor, Klub...</td>\n",
              "      <td>23490093</td>\n",
              "    </tr>\n",
              "    <tr>\n",
              "      <th>4</th>\n",
              "      <td>Jakarta</td>\n",
              "      <td>Hotel Mulia Senayan, Jakarta</td>\n",
              "      <td>Hotel Mulia Senayan, Jakarta</td>\n",
              "      <td>Senayan, Jakarta</td>\n",
              "      <td>5.0</td>\n",
              "      <td>8.7</td>\n",
              "      <td>1540.0</td>\n",
              "      <td>Mengesankan</td>\n",
              "      <td>-6.215131</td>\n",
              "      <td>106.797045</td>\n",
              "      <td>Bar, Tennis, Fasilitas bisnis, Lapangan tennis...</td>\n",
              "      <td>16334999</td>\n",
              "    </tr>\n",
              "  </tbody>\n",
              "</table>\n",
              "</div>\n",
              "      <button class=\"colab-df-convert\" onclick=\"convertToInteractive('df-2e9c92e4-696e-4b57-8870-e7ed6feae728')\"\n",
              "              title=\"Convert this dataframe to an interactive table.\"\n",
              "              style=\"display:none;\">\n",
              "        \n",
              "  <svg xmlns=\"http://www.w3.org/2000/svg\" height=\"24px\"viewBox=\"0 0 24 24\"\n",
              "       width=\"24px\">\n",
              "    <path d=\"M0 0h24v24H0V0z\" fill=\"none\"/>\n",
              "    <path d=\"M18.56 5.44l.94 2.06.94-2.06 2.06-.94-2.06-.94-.94-2.06-.94 2.06-2.06.94zm-11 1L8.5 8.5l.94-2.06 2.06-.94-2.06-.94L8.5 2.5l-.94 2.06-2.06.94zm10 10l.94 2.06.94-2.06 2.06-.94-2.06-.94-.94-2.06-.94 2.06-2.06.94z\"/><path d=\"M17.41 7.96l-1.37-1.37c-.4-.4-.92-.59-1.43-.59-.52 0-1.04.2-1.43.59L10.3 9.45l-7.72 7.72c-.78.78-.78 2.05 0 2.83L4 21.41c.39.39.9.59 1.41.59.51 0 1.02-.2 1.41-.59l7.78-7.78 2.81-2.81c.8-.78.8-2.07 0-2.86zM5.41 20L4 18.59l7.72-7.72 1.47 1.35L5.41 20z\"/>\n",
              "  </svg>\n",
              "      </button>\n",
              "      \n",
              "  <style>\n",
              "    .colab-df-container {\n",
              "      display:flex;\n",
              "      flex-wrap:wrap;\n",
              "      gap: 12px;\n",
              "    }\n",
              "\n",
              "    .colab-df-convert {\n",
              "      background-color: #E8F0FE;\n",
              "      border: none;\n",
              "      border-radius: 50%;\n",
              "      cursor: pointer;\n",
              "      display: none;\n",
              "      fill: #1967D2;\n",
              "      height: 32px;\n",
              "      padding: 0 0 0 0;\n",
              "      width: 32px;\n",
              "    }\n",
              "\n",
              "    .colab-df-convert:hover {\n",
              "      background-color: #E2EBFA;\n",
              "      box-shadow: 0px 1px 2px rgba(60, 64, 67, 0.3), 0px 1px 3px 1px rgba(60, 64, 67, 0.15);\n",
              "      fill: #174EA6;\n",
              "    }\n",
              "\n",
              "    [theme=dark] .colab-df-convert {\n",
              "      background-color: #3B4455;\n",
              "      fill: #D2E3FC;\n",
              "    }\n",
              "\n",
              "    [theme=dark] .colab-df-convert:hover {\n",
              "      background-color: #434B5C;\n",
              "      box-shadow: 0px 1px 3px 1px rgba(0, 0, 0, 0.15);\n",
              "      filter: drop-shadow(0px 1px 2px rgba(0, 0, 0, 0.3));\n",
              "      fill: #FFFFFF;\n",
              "    }\n",
              "  </style>\n",
              "\n",
              "      <script>\n",
              "        const buttonEl =\n",
              "          document.querySelector('#df-2e9c92e4-696e-4b57-8870-e7ed6feae728 button.colab-df-convert');\n",
              "        buttonEl.style.display =\n",
              "          google.colab.kernel.accessAllowed ? 'block' : 'none';\n",
              "\n",
              "        async function convertToInteractive(key) {\n",
              "          const element = document.querySelector('#df-2e9c92e4-696e-4b57-8870-e7ed6feae728');\n",
              "          const dataTable =\n",
              "            await google.colab.kernel.invokeFunction('convertToInteractive',\n",
              "                                                     [key], {});\n",
              "          if (!dataTable) return;\n",
              "\n",
              "          const docLinkHtml = 'Like what you see? Visit the ' +\n",
              "            '<a target=\"_blank\" href=https://colab.research.google.com/notebooks/data_table.ipynb>data table notebook</a>'\n",
              "            + ' to learn more about interactive tables.';\n",
              "          element.innerHTML = '';\n",
              "          dataTable['output_type'] = 'display_data';\n",
              "          await google.colab.output.renderOutput(dataTable, element);\n",
              "          const docLink = document.createElement('div');\n",
              "          docLink.innerHTML = docLinkHtml;\n",
              "          element.appendChild(docLink);\n",
              "        }\n",
              "      </script>\n",
              "    </div>\n",
              "  </div>\n",
              "  "
            ]
          },
          "metadata": {},
          "execution_count": 11
        }
      ]
    },
    {
      "cell_type": "markdown",
      "source": [
        "## data details"
      ],
      "metadata": {
        "id": "VKGMn_mV5OqR"
      }
    },
    {
      "cell_type": "code",
      "source": [
        "df.info()"
      ],
      "metadata": {
        "colab": {
          "base_uri": "https://localhost:8080/"
        },
        "id": "xVSRBG8j5UBn",
        "outputId": "8951620b-3213-4bea-b8dc-8c6e0ff34620"
      },
      "execution_count": 12,
      "outputs": [
        {
          "output_type": "stream",
          "name": "stdout",
          "text": [
            "<class 'pandas.core.frame.DataFrame'>\n",
            "Int64Index: 753 entries, 0 to 903\n",
            "Data columns (total 12 columns):\n",
            " #   Column          Non-Null Count  Dtype  \n",
            "---  ------          --------------  -----  \n",
            " 0   city            753 non-null    object \n",
            " 1   name            753 non-null    object \n",
            " 2   displayName     753 non-null    object \n",
            " 3   region          753 non-null    object \n",
            " 4   starRating      753 non-null    float64\n",
            " 5   userRating      753 non-null    float64\n",
            " 6   numReviews      753 non-null    float64\n",
            " 7   userRatingInfo  753 non-null    object \n",
            " 8   latitude        753 non-null    float64\n",
            " 9   longitude       753 non-null    float64\n",
            " 10  hotelFeatures   753 non-null    object \n",
            " 11  prices          753 non-null    int64  \n",
            "dtypes: float64(5), int64(1), object(6)\n",
            "memory usage: 76.5+ KB\n"
          ]
        }
      ]
    },
    {
      "cell_type": "code",
      "source": [
        "df.shape"
      ],
      "metadata": {
        "colab": {
          "base_uri": "https://localhost:8080/"
        },
        "id": "G2rldALi6SG6",
        "outputId": "5d040316-2b3b-4b14-88c0-1ae33bc1f458"
      },
      "execution_count": 13,
      "outputs": [
        {
          "output_type": "execute_result",
          "data": {
            "text/plain": [
              "(753, 12)"
            ]
          },
          "metadata": {},
          "execution_count": 13
        }
      ]
    },
    {
      "cell_type": "markdown",
      "source": [
        "## EDA"
      ],
      "metadata": {
        "id": "0P56aTud5i-L"
      }
    },
    {
      "cell_type": "code",
      "source": [
        "top_10 = df.groupby('city')['numReviews'].sum().reset_index()\n",
        "top_10 = top_10.sort_values('numReviews', ascending=False)\n",
        "\n",
        "plt.figure(figsize=(10, 6))\n",
        "sns.barplot(data=top_10, x='city', y='numReviews')\n",
        "plt.xticks(rotation=45)\n",
        "plt.xlabel('Nama hotel')\n",
        "plt.ylabel('Jumlah Rating')\n",
        "plt.title('Jumlah Rating Terbanyak untuk hotel')\n",
        "plt.show()"
      ],
      "metadata": {
        "colab": {
          "base_uri": "https://localhost:8080/",
          "height": 633
        },
        "id": "wSoPpA5s5mT-",
        "outputId": "355e1fb4-12bb-46d1-afb9-49c37684429a"
      },
      "execution_count": 14,
      "outputs": [
        {
          "output_type": "display_data",
          "data": {
            "text/plain": [
              "<Figure size 1000x600 with 1 Axes>"
            ],
            "image/png": "[encoded data removed]"
          },
          "metadata": {}
        }
      ]
    },
    {
      "cell_type": "markdown",
      "source": [
        "## prepraring data for model"
      ],
      "metadata": {
        "id": "SM3KtvC-5i7z"
      }
    },
    {
      "cell_type": "markdown",
      "source": [
        "### cleaning \"hotelFeatures\" \n",
        "because, it's valueable for the model later"
      ],
      "metadata": {
        "id": "lfmfmei98TDc"
      }
    },
    {
      "cell_type": "code",
      "source": [
        "df['hotelFeatures'] = df['hotelFeatures'].str.replace(',', '')\n",
        "df.head()"
      ],
      "metadata": {
        "colab": {
          "base_uri": "https://localhost:8080/",
          "height": 565
        },
        "id": "N44CkphG8QdU",
        "outputId": "b9fc60ac-e77a-4b6e-83ff-6919e1e75ca5"
      },
      "execution_count": 15,
      "outputs": [
        {
          "output_type": "execute_result",
          "data": {
            "text/plain": [
              "      city                                  name  \\\n",
              "0  Jakarta  The Sultan Hotel & Residence Jakarta   \n",
              "1  Jakarta               Aryaduta Suite Semanggi   \n",
              "2  Jakarta                   Aloft South Jakarta   \n",
              "3  Jakarta                  The Langham, Jakarta   \n",
              "4  Jakarta          Hotel Mulia Senayan, Jakarta   \n",
              "\n",
              "                    displayName                   region  starRating  \\\n",
              "0      The Sultan Hotel Jakarta         Senayan, Jakarta         5.0   \n",
              "1       Aryaduta Suite Semanggi  Karet Semanggi, Jakarta         4.0   \n",
              "2           Aloft South Jakarta  Cilandak Timur, Jakarta         4.0   \n",
              "3          The Langham, Jakarta         Senayan, Jakarta         5.0   \n",
              "4  Hotel Mulia Senayan, Jakarta         Senayan, Jakarta         5.0   \n",
              "\n",
              "   userRating  numReviews userRatingInfo  latitude   longitude  \\\n",
              "0         8.6      7247.0    Mengesankan -6.216947  106.809331   \n",
              "1         8.5      4882.0    Mengesankan -6.219991  106.816117   \n",
              "2         8.9       467.0    Mengesankan -6.291784  106.816294   \n",
              "3         8.8       340.0    Mengesankan -6.227097  106.806396   \n",
              "4         8.7      1540.0    Mengesankan -6.215131  106.797045   \n",
              "\n",
              "                                       hotelFeatures    prices  \n",
              "0  Bayar saat Check-in Restoran show cooking Wine...   7175300  \n",
              "1  Squash Area main anak Tennis Layanan pijat Dap...   7202361  \n",
              "2  Bar Sewa mobil Pusat kebugaran Bilyar Bar di k...   3884100  \n",
              "3  Restoran show cooking Aktivitas outdoor Klub k...  23490093  \n",
              "4  Bar Tennis Fasilitas bisnis Lapangan tennis ou...  16334999  "
            ],
            "text/html": [
              "\n",
              "  <div id=\"df-94782214-fbb4-459d-b343-35607190fb82\">\n",
              "    <div class=\"colab-df-container\">\n",
              "      <div>\n",
              "<style scoped>\n",
              "    .dataframe tbody tr th:only-of-type {\n",
              "        vertical-align: middle;\n",
              "    }\n",
              "\n",
              "    .dataframe tbody tr th {\n",
              "        vertical-align: top;\n",
              "    }\n",
              "\n",
              "    .dataframe thead th {\n",
              "        text-align: right;\n",
              "    }\n",
              "</style>\n",
              "<table border=\"1\" class=\"dataframe\">\n",
              "  <thead>\n",
              "    <tr style=\"text-align: right;\">\n",
              "      <th></th>\n",
              "      <th>city</th>\n",
              "      <th>name</th>\n",
              "      <th>displayName</th>\n",
              "      <th>region</th>\n",
              "      <th>starRating</th>\n",
              "      <th>userRating</th>\n",
              "      <th>numReviews</th>\n",
              "      <th>userRatingInfo</th>\n",
              "      <th>latitude</th>\n",
              "      <th>longitude</th>\n",
              "      <th>hotelFeatures</th>\n",
              "      <th>prices</th>\n",
              "    </tr>\n",
              "  </thead>\n",
              "  <tbody>\n",
              "    <tr>\n",
              "      <th>0</th>\n",
              "      <td>Jakarta</td>\n",
              "      <td>The Sultan Hotel &amp; Residence Jakarta</td>\n",
              "      <td>The Sultan Hotel Jakarta</td>\n",
              "      <td>Senayan, Jakarta</td>\n",
              "      <td>5.0</td>\n",
              "      <td>8.6</td>\n",
              "      <td>7247.0</td>\n",
              "      <td>Mengesankan</td>\n",
              "      <td>-6.216947</td>\n",
              "      <td>106.809331</td>\n",
              "      <td>Bayar saat Check-in Restoran show cooking Wine...</td>\n",
              "      <td>7175300</td>\n",
              "    </tr>\n",
              "    <tr>\n",
              "      <th>1</th>\n",
              "      <td>Jakarta</td>\n",
              "      <td>Aryaduta Suite Semanggi</td>\n",
              "      <td>Aryaduta Suite Semanggi</td>\n",
              "      <td>Karet Semanggi, Jakarta</td>\n",
              "      <td>4.0</td>\n",
              "      <td>8.5</td>\n",
              "      <td>4882.0</td>\n",
              "      <td>Mengesankan</td>\n",
              "      <td>-6.219991</td>\n",
              "      <td>106.816117</td>\n",
              "      <td>Squash Area main anak Tennis Layanan pijat Dap...</td>\n",
              "      <td>7202361</td>\n",
              "    </tr>\n",
              "    <tr>\n",
              "      <th>2</th>\n",
              "      <td>Jakarta</td>\n",
              "      <td>Aloft South Jakarta</td>\n",
              "      <td>Aloft South Jakarta</td>\n",
              "      <td>Cilandak Timur, Jakarta</td>\n",
              "      <td>4.0</td>\n",
              "      <td>8.9</td>\n",
              "      <td>467.0</td>\n",
              "      <td>Mengesankan</td>\n",
              "      <td>-6.291784</td>\n",
              "      <td>106.816294</td>\n",
              "      <td>Bar Sewa mobil Pusat kebugaran Bilyar Bar di k...</td>\n",
              "      <td>3884100</td>\n",
              "    </tr>\n",
              "    <tr>\n",
              "      <th>3</th>\n",
              "      <td>Jakarta</td>\n",
              "      <td>The Langham, Jakarta</td>\n",
              "      <td>The Langham, Jakarta</td>\n",
              "      <td>Senayan, Jakarta</td>\n",
              "      <td>5.0</td>\n",
              "      <td>8.8</td>\n",
              "      <td>340.0</td>\n",
              "      <td>Mengesankan</td>\n",
              "      <td>-6.227097</td>\n",
              "      <td>106.806396</td>\n",
              "      <td>Restoran show cooking Aktivitas outdoor Klub k...</td>\n",
              "      <td>23490093</td>\n",
              "    </tr>\n",
              "    <tr>\n",
              "      <th>4</th>\n",
              "      <td>Jakarta</td>\n",
              "      <td>Hotel Mulia Senayan, Jakarta</td>\n",
              "      <td>Hotel Mulia Senayan, Jakarta</td>\n",
              "      <td>Senayan, Jakarta</td>\n",
              "      <td>5.0</td>\n",
              "      <td>8.7</td>\n",
              "      <td>1540.0</td>\n",
              "      <td>Mengesankan</td>\n",
              "      <td>-6.215131</td>\n",
              "      <td>106.797045</td>\n",
              "      <td>Bar Tennis Fasilitas bisnis Lapangan tennis ou...</td>\n",
              "      <td>16334999</td>\n",
              "    </tr>\n",
              "  </tbody>\n",
              "</table>\n",
              "</div>\n",
              "      <button class=\"colab-df-convert\" onclick=\"convertToInteractive('df-94782214-fbb4-459d-b343-35607190fb82')\"\n",
              "              title=\"Convert this dataframe to an interactive table.\"\n",
              "              style=\"display:none;\">\n",
              "        \n",
              "  <svg xmlns=\"http://www.w3.org/2000/svg\" height=\"24px\"viewBox=\"0 0 24 24\"\n",
              "       width=\"24px\">\n",
              "    <path d=\"M0 0h24v24H0V0z\" fill=\"none\"/>\n",
              "    <path d=\"M18.56 5.44l.94 2.06.94-2.06 2.06-.94-2.06-.94-.94-2.06-.94 2.06-2.06.94zm-11 1L8.5 8.5l.94-2.06 2.06-.94-2.06-.94L8.5 2.5l-.94 2.06-2.06.94zm10 10l.94 2.06.94-2.06 2.06-.94-2.06-.94-.94-2.06-.94 2.06-2.06.94z\"/><path d=\"M17.41 7.96l-1.37-1.37c-.4-.4-.92-.59-1.43-.59-.52 0-1.04.2-1.43.59L10.3 9.45l-7.72 7.72c-.78.78-.78 2.05 0 2.83L4 21.41c.39.39.9.59 1.41.59.51 0 1.02-.2 1.41-.59l7.78-7.78 2.81-2.81c.8-.78.8-2.07 0-2.86zM5.41 20L4 18.59l7.72-7.72 1.47 1.35L5.41 20z\"/>\n",
              "  </svg>\n",
              "      </button>\n",
              "      \n",
              "  <style>\n",
              "    .colab-df-container {\n",
              "      display:flex;\n",
              "      flex-wrap:wrap;\n",
              "      gap: 12px;\n",
              "    }\n",
              "\n",
              "    .colab-df-convert {\n",
              "      background-color: #E8F0FE;\n",
              "      border: none;\n",
              "      border-radius: 50%;\n",
              "      cursor: pointer;\n",
              "      display: none;\n",
              "      fill: #1967D2;\n",
              "      height: 32px;\n",
              "      padding: 0 0 0 0;\n",
              "      width: 32px;\n",
              "    }\n",
              "\n",
              "    .colab-df-convert:hover {\n",
              "      background-color: #E2EBFA;\n",
              "      box-shadow: 0px 1px 2px rgba(60, 64, 67, 0.3), 0px 1px 3px 1px rgba(60, 64, 67, 0.15);\n",
              "      fill: #174EA6;\n",
              "    }\n",
              "\n",
              "    [theme=dark] .colab-df-convert {\n",
              "      background-color: #3B4455;\n",
              "      fill: #D2E3FC;\n",
              "    }\n",
              "\n",
              "    [theme=dark] .colab-df-convert:hover {\n",
              "      background-color: #434B5C;\n",
              "      box-shadow: 0px 1px 3px 1px rgba(0, 0, 0, 0.15);\n",
              "      filter: drop-shadow(0px 1px 2px rgba(0, 0, 0, 0.3));\n",
              "      fill: #FFFFFF;\n",
              "    }\n",
              "  </style>\n",
              "\n",
              "      <script>\n",
              "        const buttonEl =\n",
              "          document.querySelector('#df-94782214-fbb4-459d-b343-35607190fb82 button.colab-df-convert');\n",
              "        buttonEl.style.display =\n",
              "          google.colab.kernel.accessAllowed ? 'block' : 'none';\n",
              "\n",
              "        async function convertToInteractive(key) {\n",
              "          const element = document.querySelector('#df-94782214-fbb4-459d-b343-35607190fb82');\n",
              "          const dataTable =\n",
              "            await google.colab.kernel.invokeFunction('convertToInteractive',\n",
              "                                                     [key], {});\n",
              "          if (!dataTable) return;\n",
              "\n",
              "          const docLinkHtml = 'Like what you see? Visit the ' +\n",
              "            '<a target=\"_blank\" href=https://colab.research.google.com/notebooks/data_table.ipynb>data table notebook</a>'\n",
              "            + ' to learn more about interactive tables.';\n",
              "          element.innerHTML = '';\n",
              "          dataTable['output_type'] = 'display_data';\n",
              "          await google.colab.output.renderOutput(dataTable, element);\n",
              "          const docLink = document.createElement('div');\n",
              "          docLink.innerHTML = docLinkHtml;\n",
              "          element.appendChild(docLink);\n",
              "        }\n",
              "      </script>\n",
              "    </div>\n",
              "  </div>\n",
              "  "
            ]
          },
          "metadata": {},
          "execution_count": 15
        }
      ]
    },
    {
      "cell_type": "markdown",
      "source": [
        "## method for preprocessing data for the model itself"
      ],
      "metadata": {
        "id": "vWB0HOCfQ9fR"
      }
    },
    {
      "cell_type": "code",
      "source": [
        "def preprocessing(data):\n",
        "    data = data.lower()\n",
        "    data = stem.stem(data)\n",
        "    data = stopword.remove(data)\n",
        "    return data"
      ],
      "metadata": {
        "id": "THCzEBotQQVG"
      },
      "execution_count": 16,
      "outputs": []
    },
    {
      "cell_type": "code",
      "source": [
        "cbf_data = df.copy()\n",
        "cbf_data['Tags'] = cbf_data['hotelFeatures']\n",
        "cbf_data.drop(['name','region','starRating',\n",
        "               'userRating','numReviews','userRatingInfo',\n",
        "               'latitude','longitude','hotelFeatures',\n",
        "               'prices'],axis=1,inplace=True)\n",
        "cbf_data"
      ],
      "metadata": {
        "colab": {
          "base_uri": "https://localhost:8080/",
          "height": 423
        },
        "id": "gE9KkcpKRIn3",
        "outputId": "0e4e743a-5ed7-4db4-d48b-7150277ce09d"
      },
      "execution_count": 17,
      "outputs": [
        {
          "output_type": "execute_result",
          "data": {
            "text/plain": [
              "         city                   displayName  \\\n",
              "0     Jakarta      The Sultan Hotel Jakarta   \n",
              "1     Jakarta       Aryaduta Suite Semanggi   \n",
              "2     Jakarta           Aloft South Jakarta   \n",
              "3     Jakarta          The Langham, Jakarta   \n",
              "4     Jakarta  Hotel Mulia Senayan, Jakarta   \n",
              "..        ...                           ...   \n",
              "899  Surabaya        D'Carol Hotel Surabaya   \n",
              "900  Surabaya        La Lisa Hotel Surabaya   \n",
              "901  Surabaya         Yello Hotel Jemursari   \n",
              "902  Surabaya           Sumi Hotel Surabaya   \n",
              "903  Surabaya  Life Hotel Sudirman Surabaya   \n",
              "\n",
              "                                                  Tags  \n",
              "0    Bayar saat Check-in Restoran show cooking Wine...  \n",
              "1    Squash Area main anak Tennis Layanan pijat Dap...  \n",
              "2    Bar Sewa mobil Pusat kebugaran Bilyar Bar di k...  \n",
              "3    Restoran show cooking Aktivitas outdoor Klub k...  \n",
              "4    Bar Tennis Fasilitas bisnis Lapangan tennis ou...  \n",
              "..                                                 ...  \n",
              "899                                Bayar saat Check-in  \n",
              "900  Bayar saat Check-in Aktivitas outdoor Sewa mob...  \n",
              "901  Layanan pijat Ruangan game Check-out ekspress Spa  \n",
              "902                                         Sewa mobil  \n",
              "903  Bayar saat Check-in Ruang santai Layanan pijat...  \n",
              "\n",
              "[753 rows x 3 columns]"
            ],
            "text/html": [
              "\n",
              "  <div id=\"df-9285c207-7e02-48e7-80bc-e62c2de61279\">\n",
              "    <div class=\"colab-df-container\">\n",
              "      <div>\n",
              "<style scoped>\n",
              "    .dataframe tbody tr th:only-of-type {\n",
              "        vertical-align: middle;\n",
              "    }\n",
              "\n",
              "    .dataframe tbody tr th {\n",
              "        vertical-align: top;\n",
              "    }\n",
              "\n",
              "    .dataframe thead th {\n",
              "        text-align: right;\n",
              "    }\n",
              "</style>\n",
              "<table border=\"1\" class=\"dataframe\">\n",
              "  <thead>\n",
              "    <tr style=\"text-align: right;\">\n",
              "      <th></th>\n",
              "      <th>city</th>\n",
              "      <th>displayName</th>\n",
              "      <th>Tags</th>\n",
              "    </tr>\n",
              "  </thead>\n",
              "  <tbody>\n",
              "    <tr>\n",
              "      <th>0</th>\n",
              "      <td>Jakarta</td>\n",
              "      <td>The Sultan Hotel Jakarta</td>\n",
              "      <td>Bayar saat Check-in Restoran show cooking Wine...</td>\n",
              "    </tr>\n",
              "    <tr>\n",
              "      <th>1</th>\n",
              "      <td>Jakarta</td>\n",
              "      <td>Aryaduta Suite Semanggi</td>\n",
              "      <td>Squash Area main anak Tennis Layanan pijat Dap...</td>\n",
              "    </tr>\n",
              "    <tr>\n",
              "      <th>2</th>\n",
              "      <td>Jakarta</td>\n",
              "      <td>Aloft South Jakarta</td>\n",
              "      <td>Bar Sewa mobil Pusat kebugaran Bilyar Bar di k...</td>\n",
              "    </tr>\n",
              "    <tr>\n",
              "      <th>3</th>\n",
              "      <td>Jakarta</td>\n",
              "      <td>The Langham, Jakarta</td>\n",
              "      <td>Restoran show cooking Aktivitas outdoor Klub k...</td>\n",
              "    </tr>\n",
              "    <tr>\n",
              "      <th>4</th>\n",
              "      <td>Jakarta</td>\n",
              "      <td>Hotel Mulia Senayan, Jakarta</td>\n",
              "      <td>Bar Tennis Fasilitas bisnis Lapangan tennis ou...</td>\n",
              "    </tr>\n",
              "    <tr>\n",
              "      <th>...</th>\n",
              "      <td>...</td>\n",
              "      <td>...</td>\n",
              "      <td>...</td>\n",
              "    </tr>\n",
              "    <tr>\n",
              "      <th>899</th>\n",
              "      <td>Surabaya</td>\n",
              "      <td>D'Carol Hotel Surabaya</td>\n",
              "      <td>Bayar saat Check-in</td>\n",
              "    </tr>\n",
              "    <tr>\n",
              "      <th>900</th>\n",
              "      <td>Surabaya</td>\n",
              "      <td>La Lisa Hotel Surabaya</td>\n",
              "      <td>Bayar saat Check-in Aktivitas outdoor Sewa mob...</td>\n",
              "    </tr>\n",
              "    <tr>\n",
              "      <th>901</th>\n",
              "      <td>Surabaya</td>\n",
              "      <td>Yello Hotel Jemursari</td>\n",
              "      <td>Layanan pijat Ruangan game Check-out ekspress Spa</td>\n",
              "    </tr>\n",
              "    <tr>\n",
              "      <th>902</th>\n",
              "      <td>Surabaya</td>\n",
              "      <td>Sumi Hotel Surabaya</td>\n",
              "      <td>Sewa mobil</td>\n",
              "    </tr>\n",
              "    <tr>\n",
              "      <th>903</th>\n",
              "      <td>Surabaya</td>\n",
              "      <td>Life Hotel Sudirman Surabaya</td>\n",
              "      <td>Bayar saat Check-in Ruang santai Layanan pijat...</td>\n",
              "    </tr>\n",
              "  </tbody>\n",
              "</table>\n",
              "<p>753 rows × 3 columns</p>\n",
              "</div>\n",
              "      <button class=\"colab-df-convert\" onclick=\"convertToInteractive('df-9285c207-7e02-48e7-80bc-e62c2de61279')\"\n",
              "              title=\"Convert this dataframe to an interactive table.\"\n",
              "              style=\"display:none;\">\n",
              "        \n",
              "  <svg xmlns=\"http://www.w3.org/2000/svg\" height=\"24px\"viewBox=\"0 0 24 24\"\n",
              "       width=\"24px\">\n",
              "    <path d=\"M0 0h24v24H0V0z\" fill=\"none\"/>\n",
              "    <path d=\"M18.56 5.44l.94 2.06.94-2.06 2.06-.94-2.06-.94-.94-2.06-.94 2.06-2.06.94zm-11 1L8.5 8.5l.94-2.06 2.06-.94-2.06-.94L8.5 2.5l-.94 2.06-2.06.94zm10 10l.94 2.06.94-2.06 2.06-.94-2.06-.94-.94-2.06-.94 2.06-2.06.94z\"/><path d=\"M17.41 7.96l-1.37-1.37c-.4-.4-.92-.59-1.43-.59-.52 0-1.04.2-1.43.59L10.3 9.45l-7.72 7.72c-.78.78-.78 2.05 0 2.83L4 21.41c.39.39.9.59 1.41.59.51 0 1.02-.2 1.41-.59l7.78-7.78 2.81-2.81c.8-.78.8-2.07 0-2.86zM5.41 20L4 18.59l7.72-7.72 1.47 1.35L5.41 20z\"/>\n",
              "  </svg>\n",
              "      </button>\n",
              "      \n",
              "  <style>\n",
              "    .colab-df-container {\n",
              "      display:flex;\n",
              "      flex-wrap:wrap;\n",
              "      gap: 12px;\n",
              "    }\n",
              "\n",
              "    .colab-df-convert {\n",
              "      background-color: #E8F0FE;\n",
              "      border: none;\n",
              "      border-radius: 50%;\n",
              "      cursor: pointer;\n",
              "      display: none;\n",
              "      fill: #1967D2;\n",
              "      height: 32px;\n",
              "      padding: 0 0 0 0;\n",
              "      width: 32px;\n",
              "    }\n",
              "\n",
              "    .colab-df-convert:hover {\n",
              "      background-color: #E2EBFA;\n",
              "      box-shadow: 0px 1px 2px rgba(60, 64, 67, 0.3), 0px 1px 3px 1px rgba(60, 64, 67, 0.15);\n",
              "      fill: #174EA6;\n",
              "    }\n",
              "\n",
              "    [theme=dark] .colab-df-convert {\n",
              "      background-color: #3B4455;\n",
              "      fill: #D2E3FC;\n",
              "    }\n",
              "\n",
              "    [theme=dark] .colab-df-convert:hover {\n",
              "      background-color: #434B5C;\n",
              "      box-shadow: 0px 1px 3px 1px rgba(0, 0, 0, 0.15);\n",
              "      filter: drop-shadow(0px 1px 2px rgba(0, 0, 0, 0.3));\n",
              "      fill: #FFFFFF;\n",
              "    }\n",
              "  </style>\n",
              "\n",
              "      <script>\n",
              "        const buttonEl =\n",
              "          document.querySelector('#df-9285c207-7e02-48e7-80bc-e62c2de61279 button.colab-df-convert');\n",
              "        buttonEl.style.display =\n",
              "          google.colab.kernel.accessAllowed ? 'block' : 'none';\n",
              "\n",
              "        async function convertToInteractive(key) {\n",
              "          const element = document.querySelector('#df-9285c207-7e02-48e7-80bc-e62c2de61279');\n",
              "          const dataTable =\n",
              "            await google.colab.kernel.invokeFunction('convertToInteractive',\n",
              "                                                     [key], {});\n",
              "          if (!dataTable) return;\n",
              "\n",
              "          const docLinkHtml = 'Like what you see? Visit the ' +\n",
              "            '<a target=\"_blank\" href=https://colab.research.google.com/notebooks/data_table.ipynb>data table notebook</a>'\n",
              "            + ' to learn more about interactive tables.';\n",
              "          element.innerHTML = '';\n",
              "          dataTable['output_type'] = 'display_data';\n",
              "          await google.colab.output.renderOutput(dataTable, element);\n",
              "          const docLink = document.createElement('div');\n",
              "          docLink.innerHTML = docLinkHtml;\n",
              "          element.appendChild(docLink);\n",
              "        }\n",
              "      </script>\n",
              "    </div>\n",
              "  </div>\n",
              "  "
            ]
          },
          "metadata": {},
          "execution_count": 17
        }
      ]
    },
    {
      "cell_type": "code",
      "source": [
        "cbf_data.Tags = cbf_data.Tags.apply(preprocessing)\n",
        "cbf_data"
      ],
      "metadata": {
        "colab": {
          "base_uri": "https://localhost:8080/",
          "height": 423
        },
        "id": "BbUHpp9JVFwZ",
        "outputId": "65672549-c531-4413-9a9b-d34d7c3c164d"
      },
      "execution_count": 18,
      "outputs": [
        {
          "output_type": "execute_result",
          "data": {
            "text/plain": [
              "         city                   displayName  \\\n",
              "0     Jakarta      The Sultan Hotel Jakarta   \n",
              "1     Jakarta       Aryaduta Suite Semanggi   \n",
              "2     Jakarta           Aloft South Jakarta   \n",
              "3     Jakarta          The Langham, Jakarta   \n",
              "4     Jakarta  Hotel Mulia Senayan, Jakarta   \n",
              "..        ...                           ...   \n",
              "899  Surabaya        D'Carol Hotel Surabaya   \n",
              "900  Surabaya        La Lisa Hotel Surabaya   \n",
              "901  Surabaya         Yello Hotel Jemursari   \n",
              "902  Surabaya           Sumi Hotel Surabaya   \n",
              "903  Surabaya  Life Hotel Sudirman Surabaya   \n",
              "\n",
              "                                                  Tags  \n",
              "0    bayar check-in restoran show cooking winery da...  \n",
              "1    squash area main anak tennis layan pijat dapur...  \n",
              "2    bar sewa mobil pusat bugar bilyar bar kolam re...  \n",
              "3    restoran show cooking aktivitas outdoor klub s...  \n",
              "4    bar tennis fasilitas bisnis lapang tennis outd...  \n",
              "..                                                 ...  \n",
              "899                                     bayar check-in  \n",
              "900    bayar check-in aktivitas outdoor sewa mobil spa  \n",
              "901      layan pijat ruang game check-out ekspress spa  \n",
              "902                                         sewa mobil  \n",
              "903  bayar check-in ruang santai layan pijat fasili...  \n",
              "\n",
              "[753 rows x 3 columns]"
            ],
            "text/html": [
              "\n",
              "  <div id=\"df-0bb294ed-c85d-4afb-9d95-310e15147985\">\n",
              "    <div class=\"colab-df-container\">\n",
              "      <div>\n",
              "<style scoped>\n",
              "    .dataframe tbody tr th:only-of-type {\n",
              "        vertical-align: middle;\n",
              "    }\n",
              "\n",
              "    .dataframe tbody tr th {\n",
              "        vertical-align: top;\n",
              "    }\n",
              "\n",
              "    .dataframe thead th {\n",
              "        text-align: right;\n",
              "    }\n",
              "</style>\n",
              "<table border=\"1\" class=\"dataframe\">\n",
              "  <thead>\n",
              "    <tr style=\"text-align: right;\">\n",
              "      <th></th>\n",
              "      <th>city</th>\n",
              "      <th>displayName</th>\n",
              "      <th>Tags</th>\n",
              "    </tr>\n",
              "  </thead>\n",
              "  <tbody>\n",
              "    <tr>\n",
              "      <th>0</th>\n",
              "      <td>Jakarta</td>\n",
              "      <td>The Sultan Hotel Jakarta</td>\n",
              "      <td>bayar check-in restoran show cooking winery da...</td>\n",
              "    </tr>\n",
              "    <tr>\n",
              "      <th>1</th>\n",
              "      <td>Jakarta</td>\n",
              "      <td>Aryaduta Suite Semanggi</td>\n",
              "      <td>squash area main anak tennis layan pijat dapur...</td>\n",
              "    </tr>\n",
              "    <tr>\n",
              "      <th>2</th>\n",
              "      <td>Jakarta</td>\n",
              "      <td>Aloft South Jakarta</td>\n",
              "      <td>bar sewa mobil pusat bugar bilyar bar kolam re...</td>\n",
              "    </tr>\n",
              "    <tr>\n",
              "      <th>3</th>\n",
              "      <td>Jakarta</td>\n",
              "      <td>The Langham, Jakarta</td>\n",
              "      <td>restoran show cooking aktivitas outdoor klub s...</td>\n",
              "    </tr>\n",
              "    <tr>\n",
              "      <th>4</th>\n",
              "      <td>Jakarta</td>\n",
              "      <td>Hotel Mulia Senayan, Jakarta</td>\n",
              "      <td>bar tennis fasilitas bisnis lapang tennis outd...</td>\n",
              "    </tr>\n",
              "    <tr>\n",
              "      <th>...</th>\n",
              "      <td>...</td>\n",
              "      <td>...</td>\n",
              "      <td>...</td>\n",
              "    </tr>\n",
              "    <tr>\n",
              "      <th>899</th>\n",
              "      <td>Surabaya</td>\n",
              "      <td>D'Carol Hotel Surabaya</td>\n",
              "      <td>bayar check-in</td>\n",
              "    </tr>\n",
              "    <tr>\n",
              "      <th>900</th>\n",
              "      <td>Surabaya</td>\n",
              "      <td>La Lisa Hotel Surabaya</td>\n",
              "      <td>bayar check-in aktivitas outdoor sewa mobil spa</td>\n",
              "    </tr>\n",
              "    <tr>\n",
              "      <th>901</th>\n",
              "      <td>Surabaya</td>\n",
              "      <td>Yello Hotel Jemursari</td>\n",
              "      <td>layan pijat ruang game check-out ekspress spa</td>\n",
              "    </tr>\n",
              "    <tr>\n",
              "      <th>902</th>\n",
              "      <td>Surabaya</td>\n",
              "      <td>Sumi Hotel Surabaya</td>\n",
              "      <td>sewa mobil</td>\n",
              "    </tr>\n",
              "    <tr>\n",
              "      <th>903</th>\n",
              "      <td>Surabaya</td>\n",
              "      <td>Life Hotel Sudirman Surabaya</td>\n",
              "      <td>bayar check-in ruang santai layan pijat fasili...</td>\n",
              "    </tr>\n",
              "  </tbody>\n",
              "</table>\n",
              "<p>753 rows × 3 columns</p>\n",
              "</div>\n",
              "      <button class=\"colab-df-convert\" onclick=\"convertToInteractive('df-0bb294ed-c85d-4afb-9d95-310e15147985')\"\n",
              "              title=\"Convert this dataframe to an interactive table.\"\n",
              "              style=\"display:none;\">\n",
              "        \n",
              "  <svg xmlns=\"http://www.w3.org/2000/svg\" height=\"24px\"viewBox=\"0 0 24 24\"\n",
              "       width=\"24px\">\n",
              "    <path d=\"M0 0h24v24H0V0z\" fill=\"none\"/>\n",
              "    <path d=\"M18.56 5.44l.94 2.06.94-2.06 2.06-.94-2.06-.94-.94-2.06-.94 2.06-2.06.94zm-11 1L8.5 8.5l.94-2.06 2.06-.94-2.06-.94L8.5 2.5l-.94 2.06-2.06.94zm10 10l.94 2.06.94-2.06 2.06-.94-2.06-.94-.94-2.06-.94 2.06-2.06.94z\"/><path d=\"M17.41 7.96l-1.37-1.37c-.4-.4-.92-.59-1.43-.59-.52 0-1.04.2-1.43.59L10.3 9.45l-7.72 7.72c-.78.78-.78 2.05 0 2.83L4 21.41c.39.39.9.59 1.41.59.51 0 1.02-.2 1.41-.59l7.78-7.78 2.81-2.81c.8-.78.8-2.07 0-2.86zM5.41 20L4 18.59l7.72-7.72 1.47 1.35L5.41 20z\"/>\n",
              "  </svg>\n",
              "      </button>\n",
              "      \n",
              "  <style>\n",
              "    .colab-df-container {\n",
              "      display:flex;\n",
              "      flex-wrap:wrap;\n",
              "      gap: 12px;\n",
              "    }\n",
              "\n",
              "    .colab-df-convert {\n",
              "      background-color: #E8F0FE;\n",
              "      border: none;\n",
              "      border-radius: 50%;\n",
              "      cursor: pointer;\n",
              "      display: none;\n",
              "      fill: #1967D2;\n",
              "      height: 32px;\n",
              "      padding: 0 0 0 0;\n",
              "      width: 32px;\n",
              "    }\n",
              "\n",
              "    .colab-df-convert:hover {\n",
              "      background-color: #E2EBFA;\n",
              "      box-shadow: 0px 1px 2px rgba(60, 64, 67, 0.3), 0px 1px 3px 1px rgba(60, 64, 67, 0.15);\n",
              "      fill: #174EA6;\n",
              "    }\n",
              "\n",
              "    [theme=dark] .colab-df-convert {\n",
              "      background-color: #3B4455;\n",
              "      fill: #D2E3FC;\n",
              "    }\n",
              "\n",
              "    [theme=dark] .colab-df-convert:hover {\n",
              "      background-color: #434B5C;\n",
              "      box-shadow: 0px 1px 3px 1px rgba(0, 0, 0, 0.15);\n",
              "      filter: drop-shadow(0px 1px 2px rgba(0, 0, 0, 0.3));\n",
              "      fill: #FFFFFF;\n",
              "    }\n",
              "  </style>\n",
              "\n",
              "      <script>\n",
              "        const buttonEl =\n",
              "          document.querySelector('#df-0bb294ed-c85d-4afb-9d95-310e15147985 button.colab-df-convert');\n",
              "        buttonEl.style.display =\n",
              "          google.colab.kernel.accessAllowed ? 'block' : 'none';\n",
              "\n",
              "        async function convertToInteractive(key) {\n",
              "          const element = document.querySelector('#df-0bb294ed-c85d-4afb-9d95-310e15147985');\n",
              "          const dataTable =\n",
              "            await google.colab.kernel.invokeFunction('convertToInteractive',\n",
              "                                                     [key], {});\n",
              "          if (!dataTable) return;\n",
              "\n",
              "          const docLinkHtml = 'Like what you see? Visit the ' +\n",
              "            '<a target=\"_blank\" href=https://colab.research.google.com/notebooks/data_table.ipynb>data table notebook</a>'\n",
              "            + ' to learn more about interactive tables.';\n",
              "          element.innerHTML = '';\n",
              "          dataTable['output_type'] = 'display_data';\n",
              "          await google.colab.output.renderOutput(dataTable, element);\n",
              "          const docLink = document.createElement('div');\n",
              "          docLink.innerHTML = docLinkHtml;\n",
              "          element.appendChild(docLink);\n",
              "        }\n",
              "      </script>\n",
              "    </div>\n",
              "  </div>\n",
              "  "
            ]
          },
          "metadata": {},
          "execution_count": 18
        }
      ]
    },
    {
      "cell_type": "code",
      "source": [
        "vectors = tv.fit_transform(cbf_data.Tags).toarray()\n",
        "vectors"
      ],
      "metadata": {
        "colab": {
          "base_uri": "https://localhost:8080/"
        },
        "id": "vdtWA544VRu-",
        "outputId": "5b7ee9ce-6f03-47b5-9e3a-2d64c7278214"
      },
      "execution_count": 19,
      "outputs": [
        {
          "output_type": "execute_result",
          "data": {
            "text/plain": [
              "array([[0.        , 0.        , 0.        , ..., 0.        , 0.        ,\n",
              "        0.34096987],\n",
              "       [0.        , 0.        , 0.        , ..., 0.        , 0.        ,\n",
              "        0.        ],\n",
              "       [0.        , 0.        , 0.        , ..., 0.        , 0.        ,\n",
              "        0.        ],\n",
              "       ...,\n",
              "       [0.        , 0.        , 0.        , ..., 0.        , 0.        ,\n",
              "        0.        ],\n",
              "       [0.        , 0.        , 0.        , ..., 0.        , 0.        ,\n",
              "        0.        ],\n",
              "       [0.        , 0.        , 0.        , ..., 0.        , 0.        ,\n",
              "        0.        ]])"
            ]
          },
          "metadata": {},
          "execution_count": 19
        }
      ]
    },
    {
      "cell_type": "code",
      "source": [
        "similarity = cosine_similarity(vectors)\n",
        "similarity[0][1:10]"
      ],
      "metadata": {
        "colab": {
          "base_uri": "https://localhost:8080/"
        },
        "id": "tvLMGZSJVYhM",
        "outputId": "8cc9dd90-4874-4f8a-95db-8844528c0a10"
      },
      "execution_count": 20,
      "outputs": [
        {
          "output_type": "execute_result",
          "data": {
            "text/plain": [
              "array([0.25920224, 0.08778075, 0.3360852 , 0.32309742, 0.04110825,\n",
              "       0.17392255, 0.15997296, 0.14726899, 0.19992052])"
            ]
          },
          "metadata": {},
          "execution_count": 20
        }
      ]
    },
    {
      "cell_type": "code",
      "source": [
        "def recommend_by_content_based_filtering(kebutuhan):\n",
        "    # Mengubah kalimat input menjadi daftar kata kunci\n",
        "    keywords = nltk.word_tokenize(kebutuhan)\n",
        "    \n",
        "    recommended_kebutuhans = []\n",
        "    \n",
        "    for i, tags in enumerate(cbf_data['Tags']):\n",
        "        # Mengubah tags menjadi daftar kata-kata\n",
        "        tags_list = nltk.word_tokenize(tags)\n",
        "        \n",
        "        # Mencari kata-kata yang cocok dengan kata-kata kunci\n",
        "        matched_keywords = [keyword for keyword in keywords if keyword in tags_list]\n",
        "        \n",
        "        # Menentukan tingkat kesamaan berdasarkan jumlah kata yang cocok\n",
        "        similarity_score = len(matched_keywords)\n",
        "        \n",
        "        # Menambahkan kebutuhan yang cocok ke dalam daftar rekomendasi\n",
        "        recommended_kebutuhans.append([tags, similarity_score])\n",
        "    \n",
        "    # Mengurutkan berdasarkan tingkat kesamaan secara menurun\n",
        "    recommended_kebutuhans = sorted(recommended_kebutuhans, key=lambda x: x[1], reverse=True)\n",
        "    \n",
        "    # Mengambil 10 rekomendasi teratas\n",
        "    recommended_kebutuhans = recommended_kebutuhans[:10]\n",
        "    \n",
        "    return recommended_kebutuhans\n"
      ],
      "metadata": {
        "id": "Y-vAjSW6Ymnw"
      },
      "execution_count": 31,
      "outputs": []
    },
    {
      "cell_type": "markdown",
      "source": [
        "## testing"
      ],
      "metadata": {
        "id": "Yy1jLtTc34Lg"
      }
    },
    {
      "cell_type": "code",
      "source": [
        "recommend_by_content_based_filtering('bayar aerobik pusat bugar')"
      ],
      "metadata": {
        "id": "INDL7zus4hvW",
        "colab": {
          "base_uri": "https://localhost:8080/"
        },
        "outputId": "ea9941b5-139d-4b7d-801f-cfa3a971550d"
      },
      "execution_count": 35,
      "outputs": [
        {
          "output_type": "execute_result",
          "data": {
            "text/plain": [
              "[['bayar check-in aerobik restoran show cooking ruang santai klub anak aksesibel sandang disabilitas pusat bugar bar',\n",
              "  4],\n",
              " ['bayar check-in aerobik restoran show cooking ruang santai klub anak aksesibel sandang disabilitas pusat bugar bar',\n",
              "  4],\n",
              " ['aerobik winery layan pijat pusat bugar bar kolam renang aksesibel sandang disabilitas pusat bugar bar',\n",
              "  3],\n",
              " ['aerobik winery pusat bugar fasilitas bisnis aksesibel sandang disabilitas check-out ekspress pusat bugar bar',\n",
              "  3],\n",
              " ['bayar check-in layan pijat bar kolam renang pusat bugar bar', 3],\n",
              " ['aerobik bar area main anak fasilitas bisnis bar kolam renang aksesibel sandang disabilitas pusat bugar bar',\n",
              "  3],\n",
              " ['aerobik aktivitas outdoor handuk pantai layan pijat pusat bugar aksesibel sandang disabilitas check-out ekspress pusat bugar',\n",
              "  3],\n",
              " ['bayar check-in layan pijat pusat bugar aksesibel sandang disabilitas spa pusat bugar',\n",
              "  3],\n",
              " ['badminton aerobik bar tennis bilyar aksesibel sandang disabilitas pusat bugar bar',\n",
              "  3],\n",
              " ['bayar check-in karaoke pusat bugar bilyar aksesibel sandang disabilitas check-out ekspress pusat bugar bar',\n",
              "  3]]"
            ]
          },
          "metadata": {},
          "execution_count": 35
        }
      ]
    },
    {
      "cell_type": "markdown",
      "source": [
        "## misc"
      ],
      "metadata": {
        "id": "WpMMT0KJ34O-"
      }
    },
    {
      "cell_type": "code",
      "source": [],
      "metadata": {
        "id": "BIdPVtilXoqe"
      },
      "execution_count": null,
      "outputs": []
    }
  ]
}